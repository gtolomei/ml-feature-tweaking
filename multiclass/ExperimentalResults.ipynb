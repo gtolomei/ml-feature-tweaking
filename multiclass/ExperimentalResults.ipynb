{
 "cells": [
  {
   "cell_type": "code",
   "execution_count": null,
   "metadata": {},
   "outputs": [],
   "source": [
    "import numpy as np\n",
    "import pandas as pd\n",
    "import matplotlib.pyplot as plt\n",
    "import seaborn as sns\n",
    "\n",
    "%matplotlib inline"
   ]
  },
  {
   "cell_type": "code",
   "execution_count": null,
   "metadata": {},
   "outputs": [],
   "source": [
    "RESULTS_DIR = './out/'\n",
    "RESULTS_FILENAME = RESULTS_DIR + 'results.csv'"
   ]
  },
  {
   "cell_type": "code",
   "execution_count": null,
   "metadata": {},
   "outputs": [],
   "source": [
    "results = pd.read_csv(RESULTS_FILENAME)"
   ]
  },
  {
   "cell_type": "code",
   "execution_count": null,
   "metadata": {},
   "outputs": [],
   "source": [
    "results.head()"
   ]
  },
  {
   "cell_type": "code",
   "execution_count": null,
   "metadata": {},
   "outputs": [],
   "source": [
    "data = results.sort_values(by=['method', 'k_nn', 'n_samples', 'epsilon'])"
   ]
  },
  {
   "cell_type": "code",
   "execution_count": null,
   "metadata": {},
   "outputs": [],
   "source": [
    "data.head()"
   ]
  },
  {
   "cell_type": "code",
   "execution_count": null,
   "metadata": {
    "scrolled": true
   },
   "outputs": [],
   "source": [
    "data.shape"
   ]
  },
  {
   "cell_type": "code",
   "execution_count": null,
   "metadata": {},
   "outputs": [],
   "source": [
    "colors_palette = [\n",
    "                    '#78C850',  # Grass\n",
    "                    '#F08030',  # Fire\n",
    "                    '#6890F0',  # Water\n",
    "                    '#A040A0',  # Poison\n",
    "                    '#A8A878',  # Normal\n",
    "                    '#A8B820',  # Bug\n",
    "                    '#F8D030',  # Electric\n",
    "                    '#E0C068',  # Ground\n",
    "                    '#EE99AC',  # Fairy\n",
    "                    '#C03028',  # Fighting\n",
    "                    '#F85888',  # Psychic\n",
    "                    '#B8A038',  # Rock\n",
    "                    '#705898',  # Ghost\n",
    "                    '#98D8D8',  # Ice\n",
    "                    '#7038F8'   # Dragon\n",
    "                   ]"
   ]
  },
  {
   "cell_type": "code",
   "execution_count": null,
   "metadata": {},
   "outputs": [],
   "source": [
    "def plot(data, epsilon, k):\n",
    "    data_to_plot = data\n",
    "    #data_to_plot = data[(data['epsilon'] == epsilon)]\n",
    "    #data_to_plot = data[(data['epsilon'] == epsilon) & (data['k_nn'] == k)]\n",
    "    fig, ax = plt.subplots(1, 1, figsize=(12,8))\n",
    "\n",
    "    # Plot using seaborn\n",
    "    sns.set(font_scale = 1.6)\n",
    "    ax = sns.lineplot(x='n_samples', \n",
    "                      y='elapsed_time (secs.)', \n",
    "                      hue='method', \n",
    "                      markers=True, \n",
    "                      data=data_to_plot, \n",
    "                      style='method',\n",
    "                      palette=[colors_palette[9], colors_palette[0], colors_palette[2]],\n",
    "                      hue_order = ['brute-force', 'kd-tree', 'ball-tree']\n",
    "                     )\n",
    "\n",
    "    #_ = ax.set_xlim(0, 500)\n",
    "    #_ = ax.set_ylim(0, 2000)\n",
    "    _ = ax.set_yscale('log')\n",
    "    _ = ax.set_xlabel('n. of samples', fontsize=18)\n",
    "    _ = ax.set_ylabel('Avg. Time (secs.)', fontsize=18)\n",
    "\n",
    "    _ = ax.legend(bbox_to_anchor=(1.05, 1), loc=2, borderaxespad=0.)\n",
    "    #_ = ax.legend(loc='upper center', bbox_to_anchor=(0.5, 1.1), ncol=3, fancybox=True, shadow=True)\n",
    "\n",
    "    plt.show()\n",
    "\n",
    "    plt.close()"
   ]
  },
  {
   "cell_type": "code",
   "execution_count": null,
   "metadata": {},
   "outputs": [],
   "source": [
    "_ = plot(data, 1, 10) #[data['n_samples'] <= 2000]"
   ]
  }
 ],
 "metadata": {
  "kernelspec": {
   "display_name": "Python 3",
   "language": "python",
   "name": "python3"
  },
  "language_info": {
   "codemirror_mode": {
    "name": "ipython",
    "version": 3
   },
   "file_extension": ".py",
   "mimetype": "text/x-python",
   "name": "python",
   "nbconvert_exporter": "python",
   "pygments_lexer": "ipython3",
   "version": "3.6.8"
  }
 },
 "nbformat": 4,
 "nbformat_minor": 2
}
