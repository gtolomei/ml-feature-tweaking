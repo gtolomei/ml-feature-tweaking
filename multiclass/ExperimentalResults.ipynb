{
 "cells": [
  {
   "cell_type": "code",
   "execution_count": null,
   "metadata": {},
   "outputs": [],
   "source": [
    "%load_ext autoreload\n",
    "%autoreload 2"
   ]
  },
  {
   "cell_type": "code",
   "execution_count": null,
   "metadata": {},
   "outputs": [],
   "source": [
    "import os\n",
    "import glob\n",
    "import gzip\n",
    "import operator\n",
    "import statistics\n",
    "import numpy as np\n",
    "import pandas as pd\n",
    "import matplotlib.pyplot as plt\n",
    "import seaborn as sns\n",
    "from sklearn.externals import joblib\n",
    "\n",
    "%matplotlib inline"
   ]
  },
  {
   "cell_type": "code",
   "execution_count": null,
   "metadata": {},
   "outputs": [],
   "source": [
    "MODELS_DIR = './models/'\n",
    "CANDIDATES_INFO_FILENAME = MODELS_DIR + 'candidates_info.csv'\n",
    "RESULTS_DIR = './out/'\n",
    "RESULTS_FILENAME = RESULTS_DIR + 'results.csv'\n",
    "RESULTS_SEQ_FILENAME = RESULTS_DIR + 'results-seq.csv'\n",
    "KNN_FILENAME = RESULTS_DIR + 'results-brute-force-1-nn-4000-eps-1.knn.gz'\n",
    "KNN_SEQ_FILENAME = RESULTS_DIR + 'results-seq-brute-force-1-nn-4000-eps-1.knn.gz'"
   ]
  },
  {
   "cell_type": "markdown",
   "metadata": {},
   "source": [
    "# $\\epsilon$-transformation information"
   ]
  },
  {
   "cell_type": "code",
   "execution_count": null,
   "metadata": {},
   "outputs": [],
   "source": [
    "candidates_info = pd.read_csv(CANDIDATES_INFO_FILENAME)"
   ]
  },
  {
   "cell_type": "code",
   "execution_count": null,
   "metadata": {},
   "outputs": [],
   "source": [
    "candidates_info"
   ]
  },
  {
   "cell_type": "code",
   "execution_count": null,
   "metadata": {},
   "outputs": [],
   "source": [
    "print(\"Total number of epsilon-transformations extracted/indexed: {}\".format(candidates_info.n_paths.sum()))"
   ]
  },
  {
   "cell_type": "markdown",
   "metadata": {},
   "source": [
    "# Set global plotting configuration"
   ]
  },
  {
   "cell_type": "code",
   "execution_count": null,
   "metadata": {},
   "outputs": [],
   "source": [
    "sns.set(context=\"paper\", style=\"darkgrid\", font_scale=2)"
   ]
  },
  {
   "cell_type": "code",
   "execution_count": null,
   "metadata": {},
   "outputs": [],
   "source": [
    "colors_palette = [\n",
    "                    '#78C850',  # Grass\n",
    "                    '#F08030',  # Fire\n",
    "                    '#6890F0',  # Water\n",
    "                    '#A040A0',  # Poison\n",
    "                    '#A8A878',  # Normal\n",
    "                    '#A8B820',  # Bug\n",
    "                    '#F8D030',  # Electric\n",
    "                    '#E0C068',  # Ground\n",
    "                    '#EE99AC',  # Fairy\n",
    "                    '#C03028',  # Fighting\n",
    "                    '#F85888',  # Psychic\n",
    "                    '#B8A038',  # Rock\n",
    "                    '#705898',  # Ghost\n",
    "                    '#98D8D8',  # Ice\n",
    "                    '#7038F8'   # Dragon\n",
    "                   ]\n",
    "\n",
    "colors_palette = sns.color_palette(\"Paired\", 10)\n",
    "colors_palette = sns.color_palette(\"Set3\", 10)"
   ]
  },
  {
   "cell_type": "markdown",
   "metadata": {},
   "source": [
    "# Plot $\\epsilon$-transformations distribution over class labels"
   ]
  },
  {
   "cell_type": "code",
   "execution_count": null,
   "metadata": {},
   "outputs": [],
   "source": [
    "def plot_candidate_distr(candidates):\n",
    "    \n",
    "    fig, ax = plt.subplots(1, 1, figsize=(12,8))\n",
    "    \n",
    "    ax = sns.barplot(x=\"class\", \n",
    "                     y=(candidates.n_paths * 100)/(candidates.n_paths.sum()), \n",
    "                     data=candidates, \n",
    "                     palette=colors_palette[:10],\n",
    "                     edgecolor=\".2\"\n",
    "                    )\n",
    "    _ = ax.set_xlabel('label', fontsize=24, labelpad=14)\n",
    "    _ = ax.set_ylabel(r'$\\epsilon$-transformations (%)', fontsize=24, labelpad=14)\n",
    "    #_ = ax.legend(bbox_to_anchor=(1.05, 1), loc=2, borderaxespad=0.)"
   ]
  },
  {
   "cell_type": "code",
   "execution_count": null,
   "metadata": {},
   "outputs": [],
   "source": [
    "plot_candidate_distr(candidates_info)"
   ]
  },
  {
   "cell_type": "markdown",
   "metadata": {},
   "source": [
    "# Best $\\epsilon$-transformations"
   ]
  },
  {
   "cell_type": "code",
   "execution_count": null,
   "metadata": {},
   "outputs": [],
   "source": [
    "knn_files = glob.glob(KNN_FILENAME)"
   ]
  },
  {
   "cell_type": "code",
   "execution_count": null,
   "metadata": {},
   "outputs": [],
   "source": [
    "knn_files"
   ]
  },
  {
   "cell_type": "code",
   "execution_count": null,
   "metadata": {},
   "outputs": [],
   "source": [
    "np.all([os.path.isfile(f) for f in knn_files])"
   ]
  },
  {
   "cell_type": "code",
   "execution_count": null,
   "metadata": {},
   "outputs": [],
   "source": [
    "def load_knn(knn_filename):\n",
    "    with open(knn_filename, 'rb') as knn_file:\n",
    "        return joblib.load(knn_file)"
   ]
  },
  {
   "cell_type": "code",
   "execution_count": null,
   "metadata": {},
   "outputs": [],
   "source": [
    "def freq_knn(knn_res):\n",
    "    freq = {}\n",
    "    for key in knn_res:\n",
    "        iid, label = key\n",
    "        transf = knn_res[key]\n",
    "        sorted_transf = sorted(transf.items(), key=operator.itemgetter(1))\n",
    "        freq.setdefault(label, []).append(sorted_transf[0][0])\n",
    "\n",
    "    return freq"
   ]
  },
  {
   "cell_type": "code",
   "execution_count": null,
   "metadata": {},
   "outputs": [],
   "source": [
    "all_freqs = {}\n",
    "for kf in knn_files:\n",
    "    key = \"-\".join(kf.split('results-')[1].split('-')[:2])\n",
    "    print(key)\n",
    "    all_freqs[key] = freq_knn(load_knn(kf))"
   ]
  },
  {
   "cell_type": "code",
   "execution_count": null,
   "metadata": {},
   "outputs": [],
   "source": [
    "for label in sorted(all_freqs['brute-force']):\n",
    "    print(\"Most frequent target for original class {} = {}\".\n",
    "          format(label, statistics.mode(all_freqs['brute-force'][label])))"
   ]
  },
  {
   "cell_type": "code",
   "execution_count": null,
   "metadata": {},
   "outputs": [],
   "source": [
    "data = pd.DataFrame([(key, var) for (key, L) in all_freqs['brute-force'].items() for var in L], \n",
    "                    columns=['origin_label', 'target_label'])"
   ]
  },
  {
   "cell_type": "code",
   "execution_count": null,
   "metadata": {},
   "outputs": [],
   "source": [
    "data.head()"
   ]
  },
  {
   "cell_type": "code",
   "execution_count": null,
   "metadata": {},
   "outputs": [],
   "source": [
    "def plot_hist(data, ax, origin_label, color):\n",
    "    \n",
    "    sns.distplot(data[data['origin_label'] == origin_label]['target_label'], \n",
    "                 ax=ax, \n",
    "                 kde=True, \n",
    "                 bins=np.arange(11) - 0.5,\n",
    "                 hist_kws=dict(edgecolor=\"k\", linewidth=1),\n",
    "                 color=color\n",
    "                )\n",
    "    _ = ax.set_xlim(-0.5,9.5)\n",
    "    _ = ax.set_xticks(range(10))\n",
    "    _ = ax.set_title('origin label = {}'.format(origin_label), fontsize=18)\n",
    "    _ = ax.set_xlabel('target label', fontsize=16, labelpad=10)\n",
    "    _ = ax.set_ylabel('density', fontsize=16, labelpad=10)"
   ]
  },
  {
   "cell_type": "code",
   "execution_count": null,
   "metadata": {},
   "outputs": [],
   "source": [
    "def plot_top_candidate_distr(class_freqs, data):\n",
    "    \n",
    "    fig, ax = plt.subplots(2, 5, figsize=(20,8))\n",
    "    i = 0\n",
    "    fig.subplots_adjust(hspace=0.6, wspace=0.5)\n",
    "    for k in sorted(class_freqs):\n",
    "        plot_hist(data, ax[i//5][i%5], k, colors_palette[k])\n",
    "        i += 1"
   ]
  },
  {
   "cell_type": "code",
   "execution_count": null,
   "metadata": {},
   "outputs": [],
   "source": [
    "plot_top_candidate_distr(all_freqs['brute-force'], data)"
   ]
  },
  {
   "cell_type": "code",
   "execution_count": null,
   "metadata": {},
   "outputs": [],
   "source": [
    "results = pd.read_csv(RESULTS_FILENAME)\n",
    "results_seq = pd.read_csv(RESULTS_SEQ_FILENAME)"
   ]
  },
  {
   "cell_type": "code",
   "execution_count": null,
   "metadata": {},
   "outputs": [],
   "source": [
    "def rename_methods(df):\n",
    "    df['method'] = df['method'].replace({'brute-force':'brute force'})\n",
    "    df['method'] = df['method'].replace({'ball-tree':'ball tree'})\n",
    "    df['method'] = df['method'].replace({'kd-tree':'K-d tree'})"
   ]
  },
  {
   "cell_type": "code",
   "execution_count": null,
   "metadata": {},
   "outputs": [],
   "source": [
    "results.head()"
   ]
  },
  {
   "cell_type": "code",
   "execution_count": null,
   "metadata": {},
   "outputs": [],
   "source": [
    "results_seq.head()"
   ]
  },
  {
   "cell_type": "code",
   "execution_count": null,
   "metadata": {},
   "outputs": [],
   "source": [
    "rename_methods(results)\n",
    "rename_methods(results_seq)"
   ]
  },
  {
   "cell_type": "code",
   "execution_count": null,
   "metadata": {},
   "outputs": [],
   "source": [
    "results.head()"
   ]
  },
  {
   "cell_type": "code",
   "execution_count": null,
   "metadata": {},
   "outputs": [],
   "source": [
    "results_seq.head()"
   ]
  },
  {
   "cell_type": "code",
   "execution_count": null,
   "metadata": {},
   "outputs": [],
   "source": [
    "data = results.sort_values(by=['method', 'k_nn', 'n_samples', 'epsilon'])"
   ]
  },
  {
   "cell_type": "code",
   "execution_count": null,
   "metadata": {
    "scrolled": true
   },
   "outputs": [],
   "source": [
    "data.head()"
   ]
  },
  {
   "cell_type": "code",
   "execution_count": null,
   "metadata": {
    "scrolled": true
   },
   "outputs": [],
   "source": [
    "data.shape"
   ]
  },
  {
   "cell_type": "code",
   "execution_count": null,
   "metadata": {},
   "outputs": [],
   "source": [
    "def plot(data, epsilon, k):\n",
    "    data_to_plot = data\n",
    "    #data_to_plot = data[(data['epsilon'] == epsilon)]\n",
    "    #data_to_plot = data[(data['epsilon'] == epsilon) & (data['k_nn'] == k)]\n",
    "    fig, ax = plt.subplots(1, 1, figsize=(12,8))\n",
    "\n",
    "    # Plot using seaborn\n",
    "    sns.set(font_scale = 1.6)\n",
    "    ax = sns.lineplot(x='n_samples', \n",
    "                      y='elapsed_time (secs.)', \n",
    "                      hue='method', \n",
    "                      markers=[\"s\", \"D\", \"o\"],#True, \n",
    "                      data=data_to_plot, \n",
    "                      style='method',\n",
    "                      palette=['#C03028', '#6890F0', '#78C850'],\n",
    "                      hue_order = ['brute force', 'K-d tree', 'ball tree'],\n",
    "                      markersize=8,\n",
    "                      err_style=\"band\", \n",
    "                      ci=\"sd\"\n",
    "                     )\n",
    "\n",
    "    #_ = ax.set_xlim(0, 500)\n",
    "    #_ = ax.set_ylim(0, 2000)\n",
    "    #_ = ax.set_xscale('log')\n",
    "    \n",
    "    _ = ax.set_yscale('log')\n",
    "    _ = ax.set_xlabel('n. of samples', fontsize=24, labelpad=14)\n",
    "    _ = ax.set_ylabel('Avg. Time (secs.)', fontsize=24, labelpad=14)\n",
    "\n",
    "    #_ = ax.legend(bbox_to_anchor=(1.05, 1), loc=2, borderaxespad=0.)\n",
    "    _ = ax.legend(loc='best', \n",
    "                  fontsize=18,\n",
    "                  bbox_to_anchor=(0.95, 0.3), \n",
    "                  fancybox=True, \n",
    "                  shadow=True, \n",
    "                  borderaxespad=0.)\n",
    "    #_ = ax.legend(loc='upper center', bbox_to_anchor=(0.5, 1.1), ncol=3, fancybox=True, shadow=True)\n",
    "    \n",
    "    x = np.linspace(100, 4000)\n",
    "    y = x\n",
    "    y_log = np.log10(y)\n",
    "    y_n_log = [y_i * np.log(y_i) for y_i in y]\n",
    "    y_sq = np.square(x)\n",
    "    \n",
    "    #_ = ax.plot(x, y, linewidth=1, color='black',linestyle='dashed')\n",
    "    #_ = ax.plot(x, y_sq, linewidth=1, color='orange',linestyle='dashed')\n",
    "    #_ = ax.plot(x, y_n_log, linewidth=1, color='magenta',linestyle='dashed')\n",
    "    #_ = ax.plot(x, y_log, linewidth=1, color='cyan',linestyle='dashed')\n",
    "    \n",
    "    #_ = ax.text(1800, 2400, r'$y = x$', fontsize=14)\n",
    "\n",
    "    plt.show()\n",
    "\n",
    "    plt.close()"
   ]
  },
  {
   "cell_type": "code",
   "execution_count": null,
   "metadata": {
    "scrolled": true
   },
   "outputs": [],
   "source": [
    "_ = plot(data, 1, 10) #[data['n_samples'] <= 2000]"
   ]
  },
  {
   "cell_type": "code",
   "execution_count": null,
   "metadata": {},
   "outputs": [],
   "source": [
    "data = results_seq.sort_values(by=['method', 'k_nn', 'n_samples', 'epsilon'])"
   ]
  },
  {
   "cell_type": "code",
   "execution_count": null,
   "metadata": {},
   "outputs": [],
   "source": [
    "_ = plot(data, 1, 10)"
   ]
  }
 ],
 "metadata": {
  "kernelspec": {
   "display_name": "Python 3",
   "language": "python",
   "name": "python3"
  },
  "language_info": {
   "codemirror_mode": {
    "name": "ipython",
    "version": 3
   },
   "file_extension": ".py",
   "mimetype": "text/x-python",
   "name": "python",
   "nbconvert_exporter": "python",
   "pygments_lexer": "ipython3",
   "version": "3.6.8"
  }
 },
 "nbformat": 4,
 "nbformat_minor": 2
}
